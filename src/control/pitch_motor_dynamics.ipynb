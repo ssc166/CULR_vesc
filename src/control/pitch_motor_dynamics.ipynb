{
 "cells": [
  {
   "cell_type": "code",
   "execution_count": 2,
   "metadata": {},
   "outputs": [],
   "source": [
    "import sympy as sp\n",
    "import numpy as np\n",
    "from sympy.physics.vector import dynamicsymbols\n",
    "from sympy.physics.vector import time_derivative\n",
    "from sympy.physics.vector import ReferenceFrame\n",
    "N = ReferenceFrame('N')\n",
    "import pylab as pl\n",
    "import control\n",
    "from EoM import *\n",
    "from sympy.physics.mechanics import *\n",
    "from numpy.linalg import matrix_rank, eig\n",
    "import math\n",
    "import intelligent_robotics as ir\n",
    "import numpy as np\n",
    "from scipy.integrate import odeint\n",
    "import matplotlib.pyplot as plt\n",
    "import WIP_utils as utils\n",
    "import time as t\n",
    "import Cal_joint as cj\n",
    "import state_equation_pitch as sep\n",
    "from dmpc import *\n"
   ]
  },
  {
   "cell_type": "code",
   "execution_count": 3,
   "metadata": {},
   "outputs": [],
   "source": [
    "def rot_x(theta):\n",
    "    rot_x = sp.Matrix([[1,0,0],\n",
    "                       [0,sp.cos(theta),-sp.sin(theta)],\n",
    "                       [0,sp.sin(theta),sp.cos(theta)]])\n",
    "    return rot_x\n",
    "\n",
    "def rot_y(theta):\n",
    "    rot_y = sp.Matrix([[sp.cos(theta),0,sp.sin(theta)],\n",
    "                       [0,1,0],\n",
    "                       [-sp.sin(theta),0,sp.cos(theta)]])\n",
    "    return rot_y\n",
    "\n",
    "def rot_z(theta):\n",
    "    rot_z = sp.Matrix([[sp.cos(theta),-sp.sin(theta),0],\n",
    "                       [sp.sin(theta),sp.cos(theta),0],\n",
    "                       [0,0,1]])\n",
    "    return rot_z\n",
    "\n",
    "def trans(a,b,c):\n",
    "    x = sp.Matrix([[a],[b],[c]])\n",
    "    return x\n",
    "\n",
    "def get_torque_from_L(L,q,qd):\n",
    "    round_L_round_q = sp.zeros(len(q),1);\n",
    "    i = 0;\n",
    "    for q_i in q:\n",
    "        round_L_round_q_i = [];\n",
    "        round_L_round_q_i = sp.diff(L,q_i);\n",
    "        round_L_round_q[i] = round_L_round_q_i;\n",
    "        i+=1;\n",
    "     \n",
    "    d_dt_round_L_round_qd = sp.zeros(len(qd),1);\n",
    "    i = 0;\n",
    "    for qd_i in qd:\n",
    "        round_L_round_qd_i = [];\n",
    "        d_dt_round_L_round_qd_i = [];\n",
    "        round_L_round_qd_i = sp.diff(L,qd_i);\n",
    "        d_dt_round_L_round_qd_i = time_derivative(round_L_round_qd_i,N);\n",
    "        d_dt_round_L_round_qd[i] = d_dt_round_L_round_qd_i;\n",
    "        i+=1;\n",
    "        \n",
    "    tau = d_dt_round_L_round_qd - round_L_round_q \n",
    "    return tau"
   ]
  },
  {
   "cell_type": "code",
   "execution_count": 5,
   "metadata": {},
   "outputs": [],
   "source": [
    "r, L_1, L_b = sp.symbols('r, L_1, L_b')\n",
    "L_1c = sp.symbols('L_1c')\n",
    "m_w, m_1, m_b, g = sp.symbols('m_w, m_1, m_b, g')\n",
    "I_w, I_1, I_b = sp.symbols('I_w, I_1, I_b')\n",
    "theta_w, theta_1, theta_2 = dynamicsymbols('theta_w, theta_1, theta_2')\n",
    "\n",
    "# Displacement Vector\n",
    "x_c = trans(r*theta_w,0,0)\n",
    "x_w = x_c +  trans(0,0,r)\n",
    "x_1 = x_w +  rot_y(theta_1) @ trans(0,0,L_1c)\n",
    "x_b = x_w +  rot_y(theta_1) @ trans(0,0,L_1)+  rot_y(theta_2) @ trans(0,0,L_b)\n",
    "\n",
    "# Velocity Vector\n",
    "v_w = sp.simplify(time_derivative(x_w,N))\n",
    "v_1 = sp.simplify(time_derivative(x_1,N))\n",
    "v_b = sp.simplify(time_derivative(x_b,N))\n",
    "\n",
    "# Angular Velocity Vector\n",
    "w_w = trans(0, theta_w.diff(), 0)\n",
    "w_1 = trans(0, theta_1.diff(), 0)\n",
    "w_b = trans(0, theta_2.diff(), 0)\n",
    "\n",
    "# Generalized Coordinates\n",
    "q = sp.Matrix([[theta_w], [theta_1], [theta_2]])\n",
    "qd = q.diff()\n",
    "qdd = qd.diff()\n",
    "\n",
    "# Kinetic Energy\n",
    "T_trans = 0.5*(m_w*v_w.dot(v_w)  + m_1*v_1.dot(v_1) + m_b*v_b.dot(v_b) )\n",
    "T_wheel =I_w* w_w[1]**2 \n",
    "T_1 =I_1* w_1[1]**2 \n",
    "T_b =I_b* w_b[1]**2 \n",
    "\n",
    "T_rot = 0.5*(T_wheel + T_1 +T_b)\n",
    "\n",
    "\n",
    "# Potential Energy\n",
    "V =  m_1*g*(L_1c*sp.cos(theta_1)) + m_b*g*(L_1*sp.cos(theta_1)+L_b*sp.cos(theta_2))\n",
    "\n",
    "# Lagrangian\n",
    "L = T_trans + T_rot - V\n"
   ]
  },
  {
   "cell_type": "code",
   "execution_count": 6,
   "metadata": {},
   "outputs": [],
   "source": [
    "tau = get_torque_from_L(L,q,qd)"
   ]
  },
  {
   "cell_type": "code",
   "execution_count": 11,
   "metadata": {},
   "outputs": [],
   "source": [
    "T_w, T_b= sp.symbols('T_w,T_b')\n",
    "n, J_mb, K_tb, K_eb, b_mb, R_mb, V_b = sp.symbols('n, J_mb, K_tb, K_eb, b_mb, R_mb, V_b')\n",
    "J_mw, K_tw, K_ew, b_mw, R_mw, V_w = sp.symbols('J_mw, K_tw, K_ew, b_mw, R_mw, V_w')\n",
    "u = sp.Matrix([[T_w],[T_b]])\n",
    "# u = sp.Matrix([[T_w], [a], [T_2], [T_3], [T_4]])\n",
    "T_b = -n**2 * J_mb * (theta_2.diff().diff() - theta_1.diff().diff()) - n**2 * ((K_tb*K_eb)/R_mb + b_mb) * (theta_2.diff() - theta_1.diff()) + n*K_tb*V_b/R_mb\n",
    "T_w = -J_mw * (theta_w.diff().diff() - theta_1.diff().diff()) - ((K_tw*K_ew)/R_mw + b_mw) * (theta_w.diff() - theta_1.diff()) + K_tw*V_w/R_mw\n",
    "\n",
    "u_matrix = sp.Matrix([[-T_w],[T_w+T_b],[-T_b]])\n",
    "tau_eq = tau+u_matrix"
   ]
  },
  {
   "cell_type": "code",
   "execution_count": 12,
   "metadata": {},
   "outputs": [],
   "source": [
    "u_v = sp.Matrix([[V_w],[V_b]])\n",
    "M, C, G, W = get_EoM_from_T(tau_eq,qdd,g, u_v)"
   ]
  },
  {
   "cell_type": "code",
   "execution_count": 13,
   "metadata": {},
   "outputs": [
    {
     "data": {
      "text/latex": [
       "$\\displaystyle \\left[\\begin{matrix}1.0 I_{w} + 1.0 J_{mw} + 1.0 m_{1} r^{2} + 1.0 m_{b} r^{2} + 1.0 m_{w} r^{2} & - 1.0 J_{mw} + 1.0 L_{1} m_{b} r + 1.0 L_{1c} m_{1} r & 1.0 L_{b} m_{b} r\\\\- 1.0 J_{mw} + 1.0 L_{1} m_{b} r + 1.0 L_{1c} m_{1} r & 1.0 I_{1} + J_{mb} n^{2} + J_{mw} + L_{1}^{2} m_{b} + L_{1c}^{2} m_{1} & - J_{mb} n^{2} + L_{1} L_{b} m_{b}\\\\1.0 L_{b} m_{b} r & - J_{mb} n^{2} + L_{1} L_{b} m_{b} & 1.0 I_{b} + J_{mb} n^{2} + L_{b}^{2} m_{b}\\end{matrix}\\right]$"
      ],
      "text/plain": [
       "Matrix([\n",
       "[1.0*I_w + 1.0*J_mw + 1.0*m_1*r**2 + 1.0*m_b*r**2 + 1.0*m_w*r**2,            -1.0*J_mw + 1.0*L_1*m_b*r + 1.0*L_1c*m_1*r,                    1.0*L_b*m_b*r],\n",
       "[                     -1.0*J_mw + 1.0*L_1*m_b*r + 1.0*L_1c*m_1*r, 1.0*I_1 + J_mb*n**2 + J_mw + L_1**2*m_b + L_1c**2*m_1,         -J_mb*n**2 + L_1*L_b*m_b],\n",
       "[                                                  1.0*L_b*m_b*r,                              -J_mb*n**2 + L_1*L_b*m_b, 1.0*I_b + J_mb*n**2 + L_b**2*m_b]])"
      ]
     },
     "execution_count": 13,
     "metadata": {},
     "output_type": "execute_result"
    }
   ],
   "source": [
    "linearlize_eq = {sp.sin(theta_1-theta_2):theta_1-theta_2, sp.cos(theta_1-theta_2):1,sp.sin(theta_2):theta_2, sp.cos(theta_2):1,sp.sin(theta_1):theta_1, sp.cos(theta_1):1, theta_1.diff()**2:0, theta_2.diff()**2:0}\n",
    "Ml = M.subs(linearlize_eq)\n",
    "Cl = C.subs(linearlize_eq)\n",
    "Gl = G.subs(linearlize_eq)\n",
    "Wl = W.subs(linearlize_eq)\n",
    "Ml"
   ]
  },
  {
   "cell_type": "code",
   "execution_count": 26,
   "metadata": {},
   "outputs": [],
   "source": [
    "param = {L_b : 0.500417013226504,I_b :0.572443057472749,m_b: 19.245,I_1: 0.00614941, I_w:0.004806909,  m_1:2.786,   m_w:2.292, r:0.069,L_1c:0.171, L_1: 0.171,  g:9.81, n:250, J_mb: 3.33*10e-6, K_tb: 0.0276, K_eb:0.0276, b_mb:0.005, R_mb: 0.386,J_mw:0.004, K_tw:0.0519, K_ew:0.0519, b_mw: 2.7066*10e-4, R_mw:0.3}\n",
    "Mlp = msubs(Ml, param)\n",
    "Clp = msubs(Cl, param)\n",
    "Glp = msubs(Gl, param)\n",
    "Wlp = msubs(Wl, param)\n",
    "\n",
    "Mlp_inv = Mlp.inv()\n",
    "qdd_rhs_A = Mlp_inv*(-Clp -Glp)\n",
    "qdd_rhs_B = Mlp_inv*Wlp*u\n",
    "\n",
    "X = q.col_join(qd)\n",
    "Xd_A = qd.col_join(qdd_rhs_A)\n",
    "Xd_B = qd.col_join(qdd_rhs_B)\n",
    "U = u\n",
    "\n",
    "A = Xd_A.jacobian(X)\n",
    "B = Xd_B.jacobian(U)\n",
    "C = X.jacobian(X)\n",
    "D = X.jacobian(U)"
   ]
  },
  {
   "cell_type": "code",
   "execution_count": 27,
   "metadata": {},
   "outputs": [
    {
     "data": {
      "text/latex": [
       "$\\displaystyle \\left[\\begin{matrix}0 & 0 & 0 & 1 & 0 & 0\\\\0 & 0 & 0 & 0 & 1 & 0\\\\0 & 0 & 0 & 0 & 0 & 1\\\\0 & -119.885647884584 & -268.556484992699 & -0.386676187141497 & 175.288812595366 & -174.902136408225\\\\0 & 26.6653097807229 & 31.2143519137507 & 0.0463371372467695 & -170.513634390455 & 170.467297253209\\\\0 & 12.2105341148243 & 38.3372747315974 & 0.0370774841361725 & 32.8229783492034 & -32.8600558333396\\end{matrix}\\right]$"
      ],
      "text/plain": [
       "Matrix([\n",
       "[0,                 0,                 0,                  1,                 0,                 0],\n",
       "[0,                 0,                 0,                  0,                 1,                 0],\n",
       "[0,                 0,                 0,                  0,                 0,                 1],\n",
       "[0, -119.885647884584, -268.556484992699, -0.386676187141497,  175.288812595366, -174.902136408225],\n",
       "[0,  26.6653097807229,  31.2143519137507, 0.0463371372467695, -170.513634390455,  170.467297253209],\n",
       "[0,  12.2105341148243,  38.3372747315974, 0.0370774841361725,  32.8229783492034, -32.8600558333396]])"
      ]
     },
     "execution_count": 27,
     "metadata": {},
     "output_type": "execute_result"
    }
   ],
   "source": [
    "A"
   ]
  },
  {
   "cell_type": "code",
   "execution_count": 28,
   "metadata": {},
   "outputs": [
    {
     "data": {
      "text/latex": [
       "$\\displaystyle \\left[\\begin{matrix}0 & 0\\\\0 & 0\\\\0 & 0\\\\5.72471227743224 & 7.17344631745327\\\\-0.686017880900886 & -6.99155556838434\\\\-0.548929403229514 & 1.34772422652862\\end{matrix}\\right]$"
      ],
      "text/plain": [
       "Matrix([\n",
       "[                 0,                 0],\n",
       "[                 0,                 0],\n",
       "[                 0,                 0],\n",
       "[  5.72471227743224,  7.17344631745327],\n",
       "[-0.686017880900886, -6.99155556838434],\n",
       "[-0.548929403229514,  1.34772422652862]])"
      ]
     },
     "execution_count": 28,
     "metadata": {},
     "output_type": "execute_result"
    }
   ],
   "source": [
    "B"
   ]
  },
  {
   "cell_type": "code",
   "execution_count": 38,
   "metadata": {},
   "outputs": [],
   "source": [
    "I_bx, I_fx, I_fy, m_all, w, l, l_f, f_d, T_gb, g, r, L = sp.symbols('I_bx, I_fx, I_fy, m_all, w, l, l_f, f_d, T_gb, g, r, L')\n",
    "K_t, K_e, R_m, J_m, V, n, f, b_m = sp.symbols('K_t, K_e, R_m, J_m, V, n, f, b_m')\n",
    "theta_R, theta_gb = dynamicsymbols('theta_R, theta_gb')\n",
    "\n",
    "theta_Rd = theta_R.diff()\n",
    "theta_Rdd = theta_Rd.diff()\n",
    "theta_gbd = theta_gb.diff()\n",
    "theta_gbdd = theta_gbd.diff()\n",
    "\n",
    "q = sp.Matrix([[theta_R], [theta_gb]])\n",
    "qd = q.diff()\n",
    "qdd = qd.diff()\n",
    "\n",
    "u = sp.Matrix([T_gb])\n",
    "\n",
    "L = I_fy * w / 2\n",
    "\n",
    "T_gb = -n**2 * J_m * theta_gbdd - n**2 * (K_e*K_t/R_m + b_m)*theta_gbd + (n * K_t * V)/R_m\n",
    "\n",
    "tau = sp.Matrix([[I_bx*theta_Rdd - m_all*g*l*sp.sin(theta_R) + 2*L*theta_gbd*sp.cos(theta_gb)],\n",
    "                [I_fx*theta_gbdd -  L*theta_Rd*sp.cos(theta_gb) - T_gb]])\n",
    "eq_point = {sp.sin(theta_gb):theta_gb, sp.cos(theta_gb):1,sp.sin(theta_R):theta_R, sp.cos(theta_R):1,theta_gbd**2:0 ,theta_Rd**2:0}\n",
    "\n",
    "tau_eq = sp.simplify(tau.subs(eq_point))\n"
   ]
  },
  {
   "cell_type": "code",
   "execution_count": 39,
   "metadata": {},
   "outputs": [
    {
     "data": {
      "text/latex": [
       "$\\displaystyle \\left[\\begin{matrix}I_{bx} \\frac{d^{2}}{d t^{2}} \\theta_{R}{\\left(t \\right)} + I_{fy} w \\frac{d}{d t} \\theta_{gb}{\\left(t \\right)} - g l m_{all} \\theta_{R}{\\left(t \\right)}\\\\\\frac{- K_{t} V n + \\frac{R_{m} \\left(2 I_{fx} \\frac{d^{2}}{d t^{2}} \\theta_{gb}{\\left(t \\right)} - I_{fy} w \\frac{d}{d t} \\theta_{R}{\\left(t \\right)} + 2 J_{m} n^{2} \\frac{d^{2}}{d t^{2}} \\theta_{gb}{\\left(t \\right)}\\right)}{2} + n^{2} \\left(K_{e} K_{t} + R_{m} b_{m}\\right) \\frac{d}{d t} \\theta_{gb}{\\left(t \\right)}}{R_{m}}\\end{matrix}\\right]$"
      ],
      "text/plain": [
       "Matrix([\n",
       "[                                                                                                       I_bx*Derivative(theta_R(t), (t, 2)) + I_fy*w*Derivative(theta_gb(t), t) - g*l*m_all*theta_R(t)],\n",
       "[(-K_t*V*n + R_m*(2*I_fx*Derivative(theta_gb(t), (t, 2)) - I_fy*w*Derivative(theta_R(t), t) + 2*J_m*n**2*Derivative(theta_gb(t), (t, 2)))/2 + n**2*(K_e*K_t + R_m*b_m)*Derivative(theta_gb(t), t))/R_m]])"
      ]
     },
     "execution_count": 39,
     "metadata": {},
     "output_type": "execute_result"
    }
   ],
   "source": [
    "tau_eq"
   ]
  },
  {
   "cell_type": "code",
   "execution_count": 40,
   "metadata": {},
   "outputs": [],
   "source": [
    "u_v = sp.Matrix([V])"
   ]
  },
  {
   "cell_type": "code",
   "execution_count": 41,
   "metadata": {},
   "outputs": [],
   "source": [
    "Ml, Cl, Gl, Wl = get_EoM_from_T(tau_eq,qdd,g,u_v)"
   ]
  },
  {
   "cell_type": "code",
   "execution_count": 42,
   "metadata": {},
   "outputs": [],
   "source": [
    "Mlp_inv = Ml.inv()\n",
    "qdd_rhs_A = Mlp_inv*(-Cl -Gl)\n",
    "qdd_rhs_B = Mlp_inv*Wl*u\n",
    "\n",
    "X = q.col_join(qd)\n",
    "Xd_A = qd.col_join(qdd_rhs_A)\n",
    "Xd_B = qd.col_join(qdd_rhs_B)\n",
    "U = u\n",
    "\n",
    "A = Xd_A.jacobian(X)\n",
    "B = Xd_B.jacobian(U)\n",
    "C = X.jacobian(X)\n",
    "D = X.jacobian(U)"
   ]
  },
  {
   "cell_type": "code",
   "execution_count": 43,
   "metadata": {},
   "outputs": [
    {
     "data": {
      "text/latex": [
       "$\\displaystyle \\left[\\begin{matrix}0 & 0 & 1 & 0\\\\0 & 0 & 0 & 1\\\\\\frac{g l m_{all}}{I_{bx}} & 0 & 0 & - \\frac{I_{fy} w}{I_{bx}}\\\\0 & 0 & \\frac{I_{fy} w}{2 \\left(I_{fx} + J_{m} n^{2}\\right)} & - \\frac{n^{2} \\left(K_{e} K_{t} + R_{m} b_{m}\\right)}{R_{m} \\left(I_{fx} + J_{m} n^{2}\\right)}\\end{matrix}\\right]$"
      ],
      "text/plain": [
       "Matrix([\n",
       "[             0, 0,                            1,                                                 0],\n",
       "[             0, 0,                            0,                                                 1],\n",
       "[g*l*m_all/I_bx, 0,                            0,                                      -I_fy*w/I_bx],\n",
       "[             0, 0, I_fy*w/(2*(I_fx + J_m*n**2)), -n**2*(K_e*K_t + R_m*b_m)/(R_m*(I_fx + J_m*n**2))]])"
      ]
     },
     "execution_count": 43,
     "metadata": {},
     "output_type": "execute_result"
    }
   ],
   "source": [
    "sp.simplify(A)"
   ]
  },
  {
   "cell_type": "code",
   "execution_count": 28,
   "metadata": {},
   "outputs": [
    {
     "data": {
      "text/latex": [
       "$\\displaystyle \\left[\\begin{matrix}0\\\\0\\\\0\\\\\\frac{K_{t} n}{R_{m} \\left(I_{fx} + J_{m} n^{2}\\right)}\\end{matrix}\\right]$"
      ],
      "text/plain": [
       "Matrix([\n",
       "[                            0],\n",
       "[                            0],\n",
       "[                            0],\n",
       "[K_t*n/(R_m*(I_fx + J_m*n**2))]])"
      ]
     },
     "execution_count": 28,
     "metadata": {},
     "output_type": "execute_result"
    }
   ],
   "source": [
    "B"
   ]
  },
  {
   "cell_type": "code",
   "execution_count": 29,
   "metadata": {},
   "outputs": [],
   "source": [
    "flywheel_ang_vel = (1500 * 2 * np.pi)/60 \n",
    "# I_bx:9.448246482\n",
    "param = {w:flywheel_ang_vel, I_fx:0.006235, I_fy:0.0119107, I_bx:0.458398057,  m_all:15, l: 0.5,  g:9.81, n:6, J_m: 0.08, K_e:0.88, K_t: 0.88, R_m:0.33, b_m:0}#22.031\n",
    "\n",
    "Mlp = msubs(Ml, param)\n",
    "Clp = msubs(Cl, param)\n",
    "Glp = msubs(Gl, param)\n",
    "Wlp = msubs(Wl, param)\n",
    "\n",
    "Mlp_inv = Mlp.inv()\n",
    "qdd_rhs_A = Mlp_inv*(-Clp -Glp)\n",
    "qdd_rhs_B = Mlp_inv*Wlp*u\n",
    "\n",
    "X = q.col_join(qd)\n",
    "Xd_A = qd.col_join(qdd_rhs_A)\n",
    "Xd_B = qd.col_join(qdd_rhs_B)\n",
    "U = u\n",
    "\n",
    "A = Xd_A.jacobian(X)\n",
    "B = Xd_B.jacobian(U)\n",
    "C = X.jacobian(X)\n",
    "D = X.jacobian(U)"
   ]
  },
  {
   "cell_type": "code",
   "execution_count": 30,
   "metadata": {},
   "outputs": [
    {
     "data": {
      "text/latex": [
       "$\\displaystyle \\left[\\begin{matrix}0 & 0 & 1 & 0\\\\0 & 0 & 0 & 1\\\\160.504607025418 & 0 & 0 & -4.08144919548731\\\\0 & 0 & 0.324112274460603 & -29.2699658898184\\end{matrix}\\right]$"
      ],
      "text/plain": [
       "Matrix([\n",
       "[               0, 0,                 1,                 0],\n",
       "[               0, 0,                 0,                 1],\n",
       "[160.504607025418, 0,                 0, -4.08144919548731],\n",
       "[               0, 0, 0.324112274460603, -29.2699658898184]])"
      ]
     },
     "execution_count": 30,
     "metadata": {},
     "output_type": "execute_result"
    }
   ],
   "source": [
    "A"
   ]
  },
  {
   "cell_type": "code",
   "execution_count": 31,
   "metadata": {},
   "outputs": [
    {
     "data": {
      "text/latex": [
       "$\\displaystyle \\left[\\begin{matrix}0\\\\0\\\\0\\\\5.54355414579894\\end{matrix}\\right]$"
      ],
      "text/plain": [
       "Matrix([\n",
       "[               0],\n",
       "[               0],\n",
       "[               0],\n",
       "[5.54355414579894]])"
      ]
     },
     "execution_count": 31,
     "metadata": {},
     "output_type": "execute_result"
    }
   ],
   "source": [
    "B"
   ]
  },
  {
   "cell_type": "code",
   "execution_count": null,
   "metadata": {},
   "outputs": [],
   "source": []
  }
 ],
 "metadata": {
  "kernelspec": {
   "display_name": "Python 3.9.12 ('base')",
   "language": "python",
   "name": "python3"
  },
  "language_info": {
   "codemirror_mode": {
    "name": "ipython",
    "version": 3
   },
   "file_extension": ".py",
   "mimetype": "text/x-python",
   "name": "python",
   "nbconvert_exporter": "python",
   "pygments_lexer": "ipython3",
   "version": "3.9.12"
  },
  "vscode": {
   "interpreter": {
    "hash": "703655dbcd5c7c8bb9ae97194b51cd0ffe369cdc9bf201b74b2ce75193c2e233"
   }
  }
 },
 "nbformat": 4,
 "nbformat_minor": 4
}
