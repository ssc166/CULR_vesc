{
 "cells": [
  {
   "cell_type": "code",
   "execution_count": 1,
   "metadata": {},
   "outputs": [],
   "source": [
    "import sympy as sp\n",
    "import numpy as np\n",
    "from sympy.physics.vector import dynamicsymbols\n",
    "from sympy.physics.vector import time_derivative\n",
    "from sympy.physics.vector import ReferenceFrame\n",
    "N = ReferenceFrame('N')\n",
    "import pylab as pl\n",
    "import control\n",
    "from EoM import *\n",
    "from sympy.physics.mechanics import *\n",
    "from numpy.linalg import matrix_rank, eig\n",
    "import math\n",
    "import intelligent_robotics as ir\n",
    "import numpy as np\n",
    "from scipy.integrate import odeint\n",
    "import matplotlib.pyplot as plt\n",
    "import WIP_utils as utils\n",
    "import modern_robotics as mr\n",
    "import time as t\n",
    "import Cal_joint as cj\n",
    "import state_equation_pitch as sep\n",
    "from dmpc import *\n"
   ]
  },
  {
   "cell_type": "code",
   "execution_count": 38,
   "metadata": {},
   "outputs": [],
   "source": [
    "I_bx, I_fx, I_fy, m_all, w, l, l_f, f_d, T_gb, g, r, L = sp.symbols('I_bx, I_fx, I_fy, m_all, w, l, l_f, f_d, T_gb, g, r, L')\n",
    "K_t, K_e, R_m, J_m, V, n, f, b_m = sp.symbols('K_t, K_e, R_m, J_m, V, n, f, b_m')\n",
    "theta_R, theta_gb = dynamicsymbols('theta_R, theta_gb')\n",
    "\n",
    "theta_Rd = theta_R.diff()\n",
    "theta_Rdd = theta_Rd.diff()\n",
    "theta_gbd = theta_gb.diff()\n",
    "theta_gbdd = theta_gbd.diff()\n",
    "\n",
    "q = sp.Matrix([[theta_R], [theta_gb]])\n",
    "qd = q.diff()\n",
    "qdd = qd.diff()\n",
    "\n",
    "u = sp.Matrix([T_gb])\n",
    "\n",
    "L = I_fy * w / 2\n",
    "\n",
    "T_gb = -n**2 * J_m * theta_gbdd - n**2 * (K_e*K_t/R_m + b_m)*theta_gbd + (n * K_t * V)/R_m\n",
    "\n",
    "tau = sp.Matrix([[I_bx*theta_Rdd - m_all*g*l*sp.sin(theta_R) + 2*L*theta_gbd*sp.cos(theta_gb)],\n",
    "                [I_fx*theta_gbdd -  L*theta_Rd*sp.cos(theta_gb) - T_gb]])\n",
    "eq_point = {sp.sin(theta_gb):theta_gb, sp.cos(theta_gb):1,sp.sin(theta_R):theta_R, sp.cos(theta_R):1,theta_gbd**2:0 ,theta_Rd**2:0}\n",
    "\n",
    "tau_eq = sp.simplify(tau.subs(eq_point))\n"
   ]
  },
  {
   "cell_type": "code",
   "execution_count": 39,
   "metadata": {},
   "outputs": [
    {
     "data": {
      "text/latex": [
       "$\\displaystyle \\left[\\begin{matrix}I_{bx} \\frac{d^{2}}{d t^{2}} \\theta_{R}{\\left(t \\right)} + I_{fy} w \\frac{d}{d t} \\theta_{gb}{\\left(t \\right)} - g l m_{all} \\theta_{R}{\\left(t \\right)}\\\\\\frac{- K_{t} V n + \\frac{R_{m} \\left(2 I_{fx} \\frac{d^{2}}{d t^{2}} \\theta_{gb}{\\left(t \\right)} - I_{fy} w \\frac{d}{d t} \\theta_{R}{\\left(t \\right)} + 2 J_{m} n^{2} \\frac{d^{2}}{d t^{2}} \\theta_{gb}{\\left(t \\right)}\\right)}{2} + n^{2} \\left(K_{e} K_{t} + R_{m} b_{m}\\right) \\frac{d}{d t} \\theta_{gb}{\\left(t \\right)}}{R_{m}}\\end{matrix}\\right]$"
      ],
      "text/plain": [
       "Matrix([\n",
       "[                                                                                                       I_bx*Derivative(theta_R(t), (t, 2)) + I_fy*w*Derivative(theta_gb(t), t) - g*l*m_all*theta_R(t)],\n",
       "[(-K_t*V*n + R_m*(2*I_fx*Derivative(theta_gb(t), (t, 2)) - I_fy*w*Derivative(theta_R(t), t) + 2*J_m*n**2*Derivative(theta_gb(t), (t, 2)))/2 + n**2*(K_e*K_t + R_m*b_m)*Derivative(theta_gb(t), t))/R_m]])"
      ]
     },
     "execution_count": 39,
     "metadata": {},
     "output_type": "execute_result"
    }
   ],
   "source": [
    "tau_eq"
   ]
  },
  {
   "cell_type": "code",
   "execution_count": 40,
   "metadata": {},
   "outputs": [],
   "source": [
    "u_v = sp.Matrix([V])"
   ]
  },
  {
   "cell_type": "code",
   "execution_count": 41,
   "metadata": {},
   "outputs": [],
   "source": [
    "Ml, Cl, Gl, Wl = get_EoM_from_T(tau_eq,qdd,g,u_v)"
   ]
  },
  {
   "cell_type": "code",
   "execution_count": 42,
   "metadata": {},
   "outputs": [],
   "source": [
    "Mlp_inv = Ml.inv()\n",
    "qdd_rhs_A = Mlp_inv*(-Cl -Gl)\n",
    "qdd_rhs_B = Mlp_inv*Wl*u\n",
    "\n",
    "X = q.col_join(qd)\n",
    "Xd_A = qd.col_join(qdd_rhs_A)\n",
    "Xd_B = qd.col_join(qdd_rhs_B)\n",
    "U = u\n",
    "\n",
    "A = Xd_A.jacobian(X)\n",
    "B = Xd_B.jacobian(U)\n",
    "C = X.jacobian(X)\n",
    "D = X.jacobian(U)"
   ]
  },
  {
   "cell_type": "code",
   "execution_count": 43,
   "metadata": {},
   "outputs": [
    {
     "data": {
      "text/latex": [
       "$\\displaystyle \\left[\\begin{matrix}0 & 0 & 1 & 0\\\\0 & 0 & 0 & 1\\\\\\frac{g l m_{all}}{I_{bx}} & 0 & 0 & - \\frac{I_{fy} w}{I_{bx}}\\\\0 & 0 & \\frac{I_{fy} w}{2 \\left(I_{fx} + J_{m} n^{2}\\right)} & - \\frac{n^{2} \\left(K_{e} K_{t} + R_{m} b_{m}\\right)}{R_{m} \\left(I_{fx} + J_{m} n^{2}\\right)}\\end{matrix}\\right]$"
      ],
      "text/plain": [
       "Matrix([\n",
       "[             0, 0,                            1,                                                 0],\n",
       "[             0, 0,                            0,                                                 1],\n",
       "[g*l*m_all/I_bx, 0,                            0,                                      -I_fy*w/I_bx],\n",
       "[             0, 0, I_fy*w/(2*(I_fx + J_m*n**2)), -n**2*(K_e*K_t + R_m*b_m)/(R_m*(I_fx + J_m*n**2))]])"
      ]
     },
     "execution_count": 43,
     "metadata": {},
     "output_type": "execute_result"
    }
   ],
   "source": [
    "sp.simplify(A)"
   ]
  },
  {
   "cell_type": "code",
   "execution_count": 28,
   "metadata": {},
   "outputs": [
    {
     "data": {
      "text/latex": [
       "$\\displaystyle \\left[\\begin{matrix}0\\\\0\\\\0\\\\\\frac{K_{t} n}{R_{m} \\left(I_{fx} + J_{m} n^{2}\\right)}\\end{matrix}\\right]$"
      ],
      "text/plain": [
       "Matrix([\n",
       "[                            0],\n",
       "[                            0],\n",
       "[                            0],\n",
       "[K_t*n/(R_m*(I_fx + J_m*n**2))]])"
      ]
     },
     "execution_count": 28,
     "metadata": {},
     "output_type": "execute_result"
    }
   ],
   "source": [
    "B"
   ]
  },
  {
   "cell_type": "code",
   "execution_count": 29,
   "metadata": {},
   "outputs": [],
   "source": [
    "flywheel_ang_vel = (1500 * 2 * np.pi)/60 \n",
    "# I_bx:9.448246482\n",
    "param = {w:flywheel_ang_vel, I_fx:0.006235, I_fy:0.0119107, I_bx:0.458398057,  m_all:15, l: 0.5,  g:9.81, n:6, J_m: 0.08, K_e:0.88, K_t: 0.88, R_m:0.33, b_m:0}#22.031\n",
    "\n",
    "Mlp = msubs(Ml, param)\n",
    "Clp = msubs(Cl, param)\n",
    "Glp = msubs(Gl, param)\n",
    "Wlp = msubs(Wl, param)\n",
    "\n",
    "Mlp_inv = Mlp.inv()\n",
    "qdd_rhs_A = Mlp_inv*(-Clp -Glp)\n",
    "qdd_rhs_B = Mlp_inv*Wlp*u\n",
    "\n",
    "X = q.col_join(qd)\n",
    "Xd_A = qd.col_join(qdd_rhs_A)\n",
    "Xd_B = qd.col_join(qdd_rhs_B)\n",
    "U = u\n",
    "\n",
    "A = Xd_A.jacobian(X)\n",
    "B = Xd_B.jacobian(U)\n",
    "C = X.jacobian(X)\n",
    "D = X.jacobian(U)"
   ]
  },
  {
   "cell_type": "code",
   "execution_count": 30,
   "metadata": {},
   "outputs": [
    {
     "data": {
      "text/latex": [
       "$\\displaystyle \\left[\\begin{matrix}0 & 0 & 1 & 0\\\\0 & 0 & 0 & 1\\\\160.504607025418 & 0 & 0 & -4.08144919548731\\\\0 & 0 & 0.324112274460603 & -29.2699658898184\\end{matrix}\\right]$"
      ],
      "text/plain": [
       "Matrix([\n",
       "[               0, 0,                 1,                 0],\n",
       "[               0, 0,                 0,                 1],\n",
       "[160.504607025418, 0,                 0, -4.08144919548731],\n",
       "[               0, 0, 0.324112274460603, -29.2699658898184]])"
      ]
     },
     "execution_count": 30,
     "metadata": {},
     "output_type": "execute_result"
    }
   ],
   "source": [
    "A"
   ]
  },
  {
   "cell_type": "code",
   "execution_count": 31,
   "metadata": {},
   "outputs": [
    {
     "data": {
      "text/latex": [
       "$\\displaystyle \\left[\\begin{matrix}0\\\\0\\\\0\\\\5.54355414579894\\end{matrix}\\right]$"
      ],
      "text/plain": [
       "Matrix([\n",
       "[               0],\n",
       "[               0],\n",
       "[               0],\n",
       "[5.54355414579894]])"
      ]
     },
     "execution_count": 31,
     "metadata": {},
     "output_type": "execute_result"
    }
   ],
   "source": [
    "B"
   ]
  },
  {
   "cell_type": "code",
   "execution_count": null,
   "metadata": {},
   "outputs": [],
   "source": []
  }
 ],
 "metadata": {
  "kernelspec": {
   "display_name": "Python 3.8.10 64-bit",
   "language": "python",
   "name": "python3"
  },
  "language_info": {
   "codemirror_mode": {
    "name": "ipython",
    "version": 3
   },
   "file_extension": ".py",
   "mimetype": "text/x-python",
   "name": "python",
   "nbconvert_exporter": "python",
   "pygments_lexer": "ipython3",
   "version": "3.8.10"
  },
  "vscode": {
   "interpreter": {
    "hash": "916dbcbb3f70747c44a77c7bcd40155683ae19c65e1c03b4aa3499c5328201f1"
   }
  }
 },
 "nbformat": 4,
 "nbformat_minor": 4
}
